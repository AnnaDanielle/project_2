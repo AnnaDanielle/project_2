{
 "cells": [
  {
   "cell_type": "markdown",
   "metadata": {},
   "source": [
    "# Project 2:  Lucid Titanic Sleuthing"
   ]
  },
  {
   "cell_type": "markdown",
   "metadata": {},
   "source": [
    "## Part 1: Developing an Understanding of the Data"
   ]
  },
  {
   "cell_type": "markdown",
   "metadata": {},
   "source": [
    "#### Based on the description of the data you read in the readme describe in your own words this data."
   ]
  },
  {
   "cell_type": "markdown",
   "metadata": {
    "collapsed": true
   },
   "source": [
    "There are two files, named by the boat which travellers utilized for their trip. The data for each ship outlines class, survival and basic characteristics of each traveller. The Titanic data appears more straightforward and 'clean' whereas the Lusitania data will require more data manipulation to draw the same types of conclusions that Titanic clearly outlines."
   ]
  },
  {
   "cell_type": "markdown",
   "metadata": {},
   "source": [
    "#### Based on our conceptual understanding of the columns in this data set.  What are the reasonable range of the values for the Sex, Age, SibSp, Parch columns."
   ]
  },
  {
   "cell_type": "markdown",
   "metadata": {
    "collapsed": true
   },
   "source": [
    "##### Titanic:\n",
    "\n",
    "- Sex: M,F \n",
    "- Age: 0-100\n",
    "- SibSp: 0-6\n",
    "- Parch: 0-2"
   ]
  },
  {
   "cell_type": "markdown",
   "metadata": {},
   "source": [
    "#### Open the data in sublime text. Is there anything that jumps out to you?"
   ]
  },
  {
   "cell_type": "markdown",
   "metadata": {
    "collapsed": true
   },
   "source": [
    "##### Titanic:\n",
    "\n",
    "- As you move down to the bottom of the file, you see that the data is more sparse\n",
    "- There are some missing values for age\n",
    "\n",
    "##### Lusitania:\n",
    "\n",
    "- The data appears to be rather messy and have a lot of missing values"
   ]
  },
  {
   "cell_type": "markdown",
   "metadata": {},
   "source": [
    "## Part 2: Reading the Data"
   ]
  },
  {
   "cell_type": "markdown",
   "metadata": {},
   "source": [
    "#### Now read the data into a Pandas DataFrame"
   ]
  },
  {
   "cell_type": "code",
   "execution_count": 1,
   "metadata": {
    "collapsed": false
   },
   "outputs": [],
   "source": [
    "import pandas as pd\n",
    "import numpy as np\n",
    "tdf = pd.read_csv('titanic.csv')\n",
    "ldf = pd.read_csv('lusitania.csv')"
   ]
  },
  {
   "cell_type": "markdown",
   "metadata": {},
   "source": [
    "#### Check that the age column doesn't have any unreasonable values "
   ]
  },
  {
   "cell_type": "markdown",
   "metadata": {},
   "source": [
    "The age column in the titanic age column appears to have reasonable values, with all numbers and a range of 0.17 to 80 (see below). The Lusitania data, however, has very unreasonable values, complete with 'months', question marks, and parenthesis."
   ]
  },
  {
   "cell_type": "code",
   "execution_count": 2,
   "metadata": {
    "collapsed": false,
    "scrolled": false
   },
   "outputs": [
    {
     "name": "stdout",
     "output_type": "stream",
     "text": [
      "[ 29.     0.92   2.    30.    25.    48.    63.    39.    53.    71.    47.\n",
      "  18.    24.    26.    80.      nan  50.    32.    36.    37.    42.    19.\n",
      "  35.    28.    45.    40.    58.    22.    41.    44.    59.    60.    33.\n",
      "  17.    11.    14.    49.    76.    46.    27.    64.    55.    70.    38.\n",
      "  51.    31.     4.    54.    23.    43.    52.    16.    32.5   21.    15.\n",
      "  65.    28.5   45.5   56.    13.    61.    34.     6.    57.    62.    67.\n",
      "   1.    12.    20.     0.83   8.     0.67   7.     3.    36.5   18.5    5.\n",
      "  66.     9.     0.75  70.5   22.5    0.33   0.17  40.5   10.    23.5   34.5\n",
      "  20.5   30.5   55.5   38.5   14.5   24.5   60.5   74.     0.42  11.5   26.5 ]\n",
      "['38' '37' '30' '25' '27' '48' nan '24' '19 ?' '57' '50' '56' '41' '19'\n",
      " '33' '29' '18' '20' '21' '26' '17' '58' '47' '54' '35' '43' '59' '53' '44'\n",
      " '51' '40' '49' '42' '32' '31' '34' '22' '45' '36' '29 ?' '52' '23' '60'\n",
      " '28' '16' '46' '15' '39' '63 ?' '55' '64' '53 ?' '09-months' '6' '9' '14'\n",
      " '10' '12' '?' '62' '5' '8' '65' '68' '76' '61' '63' '03-months' '1.5'\n",
      " '2.5' '18-months' '3' '2' '25 ?' '08-months' '4' '15-months' '14-months'\n",
      " 'Infant' '3-6-months ?' '51 or 47' '45 or 51' '22 (?)' '17-months'\n",
      " '13-months' '02-months' '49 ?' '05-months' '11' '59 (64?)' '63 (51?)'\n",
      " '37 (39?)' '32 (22?)' '31 (32?)' '24 (23?)' '27?' '7' '42?' '31 ?'\n",
      " '10-months' '38 (?)' '70' '62 (?)' '06-months' '13' '2_' '11-months'\n",
      " '30 ?' '34?' '1' '39 (47?)' '67' '73' '72' '11-months (3?)' '4.25' '69'\n",
      " '26?' '54?' '21?' '16 ?']\n",
      "0.17\n",
      "80.0\n"
     ]
    }
   ],
   "source": [
    "print tdf['age'].unique()\n",
    "print ldf['Age'].unique()\n",
    "print tdf['age'].min()\n",
    "print tdf['age'].max()"
   ]
  },
  {
   "cell_type": "markdown",
   "metadata": {},
   "source": [
    "#### Check for missing values.  How do you know that a value is missing?"
   ]
  },
  {
   "cell_type": "markdown",
   "metadata": {
    "collapsed": true
   },
   "source": [
    "See above. Each unique list for both ships show 'nan' in the 'age' column."
   ]
  },
  {
   "cell_type": "markdown",
   "metadata": {},
   "source": [
    "#### Does it makes sense to guess at the value?"
   ]
  },
  {
   "cell_type": "markdown",
   "metadata": {
    "collapsed": true
   },
   "source": [
    "It could make sense in some cases to guess at the value."
   ]
  },
  {
   "cell_type": "markdown",
   "metadata": {},
   "source": [
    "####  <font color='blue'>Below, I am cleaning the Titanic data.</font>"
   ]
  },
  {
   "cell_type": "markdown",
   "metadata": {},
   "source": [
    "#####  <font color='green'>Title Cleaning</font>"
   ]
  },
  {
   "cell_type": "code",
   "execution_count": 3,
   "metadata": {
    "collapsed": false
   },
   "outputs": [],
   "source": [
    "# split name like the Lusitania provide, so i can think about using this to estimate age where missing\n",
    "tdf['lname'] = tdf['name'].str.extract('([^\\,]*)', expand=True)\n",
    "tdf['title'] = tdf['name'].str.extract(',(.*?)\\.', expand=True) #i had to add a '?' due to index 247 (Rothschild, Mrs. Martin (Elizabeth L. Barrett)\n",
    "tdf['fname'] = tdf['name'].str.extract('\\.(.*)', expand=True)"
   ]
  },
  {
   "cell_type": "code",
   "execution_count": 4,
   "metadata": {
    "collapsed": true
   },
   "outputs": [],
   "source": [
    "tdf['lname'] = [str.strip(i) for i in tdf['lname']]\n",
    "tdf['title'] = [str.strip(i) for i in tdf['title']]\n",
    "tdf['fname'] = [str.strip(i) for i in tdf['fname']]"
   ]
  },
  {
   "cell_type": "code",
   "execution_count": 5,
   "metadata": {
    "collapsed": false,
    "scrolled": false
   },
   "outputs": [
    {
     "name": "stdout",
     "output_type": "stream",
     "text": [
      "['Miss' 'Master' 'Mr' 'Mrs' 'Col' 'Mme' 'Dr' 'Major' 'Capt' 'Lady' 'Sir'\n",
      " 'Mlle' 'Dona' 'Jonkheer' 'the Countess' 'Don' 'Rev' 'Ms']\n"
     ]
    }
   ],
   "source": [
    "# check uniques in title since that's really the only one I care about\n",
    "print tdf['title'].unique()"
   ]
  },
  {
   "cell_type": "markdown",
   "metadata": {},
   "source": [
    "#####  <font color='green'>Dummy Variables - Class, Gender, Parents/Children</font>"
   ]
  },
  {
   "cell_type": "code",
   "execution_count": 6,
   "metadata": {
    "collapsed": false
   },
   "outputs": [],
   "source": [
    "#turning classes into dummy variables\n",
    "tdf['class_1'] = tdf['pclass'].apply(lambda x: 1 if x == 1 else 0)\n",
    "tdf['class_2'] = tdf['pclass'].apply(lambda x: 1 if x == 2 else 0)\n",
    "tdf['class_3'] = tdf['pclass'].apply(lambda x: 1 if x == 3 else 0)"
   ]
  },
  {
   "cell_type": "code",
   "execution_count": 7,
   "metadata": {
    "collapsed": true
   },
   "outputs": [],
   "source": [
    "# turning genders into dummy variables (1 for male and 0 for female)\n",
    "tdf['sex'] = tdf['sex'].apply(lambda x: 1 if x == 'male' else 0)"
   ]
  },
  {
   "cell_type": "code",
   "execution_count": 8,
   "metadata": {
    "collapsed": false,
    "scrolled": true
   },
   "outputs": [],
   "source": [
    "tdf_clean = pd.DataFrame(tdf[['title','sex','survived','age','class_1','class_2','class_3']])\n",
    "tdf_clean.columns = ['t_title','t_sex','t_fate','t_age','t_class_1','t_class_2','t_class_3']"
   ]
  },
  {
   "cell_type": "markdown",
   "metadata": {},
   "source": [
    "####  <font color='blue'>Below, I am cleaning the Lusitania data.</font>"
   ]
  },
  {
   "cell_type": "code",
   "execution_count": 9,
   "metadata": {
    "collapsed": false
   },
   "outputs": [],
   "source": [
    "ldf = pd.DataFrame(ldf[['Title','Sex','Fate','Age','Passenger/Crew','Status','Department/Class', 'Adult/Minor']])\n",
    "ldf.columns = ['l_title','l_sex','l_fate','l_age','l_pass','l_marit_status','l_class','l_age_status']"
   ]
  },
  {
   "cell_type": "markdown",
   "metadata": {},
   "source": [
    "##### <font color='green'>Age Cleaning</font>"
   ]
  },
  {
   "cell_type": "code",
   "execution_count": 10,
   "metadata": {
    "collapsed": false
   },
   "outputs": [],
   "source": [
    "# assigning all ages provided in months or as infant to the string '1', otherwise returning the l_age cell contents\n",
    "ldf['age_str'] = ['1' if 'nt' in str(age) else age for age in ldf['l_age']]"
   ]
  },
  {
   "cell_type": "code",
   "execution_count": 11,
   "metadata": {
    "collapsed": true
   },
   "outputs": [],
   "source": [
    "# extracting the first 1 or 2 digit strings from the age_str column, and then casting to float\n",
    "ldf['age_flt'] = ldf['age_str'].str.extract('(\\d{1,2})', expand=True)\n",
    "ldf['age_flt'] = [float(i) for i in ldf['age_flt']]"
   ]
  },
  {
   "cell_type": "markdown",
   "metadata": {},
   "source": [
    "##### <font color='green'>Dummy Variables - Class, Gender, Fate, Marital Status, Age Status</font>"
   ]
  },
  {
   "cell_type": "code",
   "execution_count": 12,
   "metadata": {
    "collapsed": false,
    "scrolled": true
   },
   "outputs": [],
   "source": [
    "# remove all crew from Lusitania data since we don't have crew data for the Titanic. I'm also dropping stowaways \n",
    "# since there are only 3.\n",
    "ldf = ldf.drop(ldf[ldf['l_pass'] != 'Passenger'].index)\n",
    "# remove all people in data set who weren't actually on board\n",
    "ldf = ldf.drop(ldf[ldf['l_fate'] == 'Not on board'].index)"
   ]
  },
  {
   "cell_type": "code",
   "execution_count": 13,
   "metadata": {
    "collapsed": false
   },
   "outputs": [],
   "source": [
    "# reassigning each class and creating 3 dummy value columns\n",
    "ldf['l_class_1'] = ldf['l_class'].apply(lambda x: 1 if x == 'Saloon' else 0)\n",
    "ldf['l_class_2'] = ldf['l_class'].apply(lambda x: 1 if x == 'Second' else 0)\n",
    "ldf['l_class_3'] = ldf['l_class'].apply(lambda x: 1 if 'Third' in x else 0)"
   ]
  },
  {
   "cell_type": "code",
   "execution_count": 14,
   "metadata": {
    "collapsed": false,
    "scrolled": true
   },
   "outputs": [],
   "source": [
    "# turning genders into dummy variables (1 for male and 0 for female)\n",
    "ldf['l_sex'] = ldf['l_sex'].apply(lambda x: 1 if x == 'Male' else 0)"
   ]
  },
  {
   "cell_type": "code",
   "execution_count": 15,
   "metadata": {
    "collapsed": true
   },
   "outputs": [],
   "source": [
    "# turning fate into dummy variables (1 for survived and 0 for died)\n",
    "ldf['l_fate'] = ldf['l_fate'].apply(lambda x: 1 if 'Saved' in x else 0)"
   ]
  },
  {
   "cell_type": "code",
   "execution_count": 16,
   "metadata": {
    "collapsed": false
   },
   "outputs": [],
   "source": [
    "# reassigning each age status to dummy columns\n",
    "ldf['adult'] = ldf['l_age_status'].apply(lambda x: 1 if x == 'Adult' else 0)\n",
    "ldf['minor'] = ldf['l_age_status'].apply(lambda x: 1 if x == 'Minor' else 0)\n",
    "ldf['infant'] = ldf['l_age_status'].apply(lambda x: 1 if x == 'Infant' else 0)"
   ]
  },
  {
   "cell_type": "code",
   "execution_count": 17,
   "metadata": {
    "collapsed": false,
    "scrolled": true
   },
   "outputs": [],
   "source": [
    "# cleaning the status column\n",
    "ldf['l_marit_status_mod'] = ldf['l_marit_status'].str.replace(' \\(\\?\\)','')\n",
    "ldf['l_marit_status_mod'] = ldf['l_marit_status'].str.replace('\\?','Unknown')\n",
    "# replace all singles with 0 and anyone who has ever been married or will be married soon will be replaced with a 1.\n",
    "# ldf['l_marit_status'] = ldf['l_marit_status'].apply(lambda x: 0 if x == 'Single')\n",
    "ldf['l_marit_status_mod'] = ldf['l_marit_status_mod'].apply(lambda x: 0 if x == 'Unknown' or x == 'Single' else 1)"
   ]
  },
  {
   "cell_type": "code",
   "execution_count": 18,
   "metadata": {
    "collapsed": false
   },
   "outputs": [],
   "source": [
    "ldf_clean = pd.DataFrame(ldf[['l_title','l_sex','l_fate','age_flt','l_class_1','l_class_2','l_class_3','adult','minor','infant','l_marit_status_mod']])\n",
    "ldf_clean.columns = ['l_title','l_sex','l_fate','l_age','l_class_1','l_class_2','l_class_3','adult','minor','infant','l_marit_status',]"
   ]
  },
  {
   "cell_type": "markdown",
   "metadata": {},
   "source": [
    "## Part 3: Data Imputation"
   ]
  },
  {
   "cell_type": "markdown",
   "metadata": {},
   "source": [
    "#### Well let’s say that it does... You likely noticed that Age has some missing values. How many are missing?"
   ]
  },
  {
   "cell_type": "markdown",
   "metadata": {},
   "source": [
    "Titanic has 263 missing age entries (see below), and Lusitania has 161 missing age entries (see below)."
   ]
  },
  {
   "cell_type": "markdown",
   "metadata": {},
   "source": [
    "#### For the Age of the passangers ... how would you guess at the missing values using the other data present in the CSV."
   ]
  },
  {
   "cell_type": "markdown",
   "metadata": {},
   "source": [
    "Titanic: I really wanted to group the mean of each title and then assign that mean for that group to the missing values if the title matched, but I wasted countless hours trying to do it and gave up. If I knew how to do it, that is what I would do.\n",
    "\n",
    "Similarly for the Lusitania, I would have wanted to look at the minors, infants, adults, and take into account their marital status, and estimate an age.\n",
    "\n",
    "However, I just took the average of the entire dataset since I couldn't figure out how to separate them into groups and keep all groups in the dataset."
   ]
  },
  {
   "cell_type": "markdown",
   "metadata": {
    "collapsed": true
   },
   "source": [
    "#### <font color='blue'>Titanic Age Estimations</font>"
   ]
  },
  {
   "cell_type": "code",
   "execution_count": 19,
   "metadata": {
    "collapsed": false,
    "scrolled": true
   },
   "outputs": [
    {
     "data": {
      "text/plain": [
       "263"
      ]
     },
     "execution_count": 19,
     "metadata": {},
     "output_type": "execute_result"
    }
   ],
   "source": [
    "t_null_ages = tdf_clean[(tdf_clean['t_age'] >= 0) == False]\n",
    "len(t_null_ages)"
   ]
  },
  {
   "cell_type": "code",
   "execution_count": 20,
   "metadata": {
    "collapsed": false,
    "scrolled": true
   },
   "outputs": [],
   "source": [
    "# estimate ages by title, as it is the only attribute that may have a relationship with age. since\n",
    "# i spent hours on trying to figure out how to do this, i gave up and just assigned the mean of the column to\n",
    "# all nan values\n",
    "t_dr_age = tdf_clean[(tdf_clean['t_title'] == 'Dr')]\n",
    "t_dr_age_mean = np.mean(t_dr_age['t_age'])\n",
    "t_master_age = tdf_clean[(tdf_clean['t_title'] == 'Master')]\n",
    "t_master_age_mean = np.mean(t_master_age['t_age'])\n",
    "t_miss_age = tdf_clean[(tdf_clean['t_title'] == 'Miss')]\n",
    "t_miss_age_mean = np.mean(t_miss_age['t_age'])\n",
    "t_mr_age = tdf_clean[(tdf_clean['t_title'] == 'Mr')]\n",
    "t_mr_age_mean = np.mean(t_mr_age['t_age'])\n",
    "t_mrs_age = tdf_clean[(tdf_clean['t_title'] == 'Mrs')]\n",
    "t_mrs_age_mean = np.mean(t_mrs_age['t_age'])\n",
    "t_ms_age = tdf_clean[(tdf_clean['t_title'] == 'Ms')]\n",
    "t_ms_age_mean = np.mean(t_ms_age['t_age'])"
   ]
  },
  {
   "cell_type": "code",
   "execution_count": 21,
   "metadata": {
    "collapsed": false
   },
   "outputs": [
    {
     "data": {
      "text/html": [
       "<div>\n",
       "<table border=\"1\" class=\"dataframe\">\n",
       "  <thead>\n",
       "    <tr style=\"text-align: right;\">\n",
       "      <th></th>\n",
       "      <th>mean</th>\n",
       "      <th>count_nonzero</th>\n",
       "      <th>std</th>\n",
       "      <th>amax</th>\n",
       "      <th>amin</th>\n",
       "    </tr>\n",
       "    <tr>\n",
       "      <th>t_title</th>\n",
       "      <th></th>\n",
       "      <th></th>\n",
       "      <th></th>\n",
       "      <th></th>\n",
       "      <th></th>\n",
       "    </tr>\n",
       "  </thead>\n",
       "  <tbody>\n",
       "    <tr>\n",
       "      <th>Dr</th>\n",
       "      <td>NaN</td>\n",
       "      <td>1.0</td>\n",
       "      <td>NaN</td>\n",
       "      <td>NaN</td>\n",
       "      <td>NaN</td>\n",
       "    </tr>\n",
       "    <tr>\n",
       "      <th>Master</th>\n",
       "      <td>NaN</td>\n",
       "      <td>8.0</td>\n",
       "      <td>NaN</td>\n",
       "      <td>NaN</td>\n",
       "      <td>NaN</td>\n",
       "    </tr>\n",
       "    <tr>\n",
       "      <th>Miss</th>\n",
       "      <td>NaN</td>\n",
       "      <td>50.0</td>\n",
       "      <td>NaN</td>\n",
       "      <td>NaN</td>\n",
       "      <td>NaN</td>\n",
       "    </tr>\n",
       "    <tr>\n",
       "      <th>Mr</th>\n",
       "      <td>NaN</td>\n",
       "      <td>176.0</td>\n",
       "      <td>NaN</td>\n",
       "      <td>NaN</td>\n",
       "      <td>NaN</td>\n",
       "    </tr>\n",
       "    <tr>\n",
       "      <th>Mrs</th>\n",
       "      <td>NaN</td>\n",
       "      <td>27.0</td>\n",
       "      <td>NaN</td>\n",
       "      <td>NaN</td>\n",
       "      <td>NaN</td>\n",
       "    </tr>\n",
       "    <tr>\n",
       "      <th>Ms</th>\n",
       "      <td>NaN</td>\n",
       "      <td>1.0</td>\n",
       "      <td>NaN</td>\n",
       "      <td>NaN</td>\n",
       "      <td>NaN</td>\n",
       "    </tr>\n",
       "    <tr>\n",
       "      <th>All</th>\n",
       "      <td>NaN</td>\n",
       "      <td>0.0</td>\n",
       "      <td>NaN</td>\n",
       "      <td>NaN</td>\n",
       "      <td>NaN</td>\n",
       "    </tr>\n",
       "  </tbody>\n",
       "</table>\n",
       "</div>"
      ],
      "text/plain": [
       "         mean  count_nonzero  std  amax  amin\n",
       "t_title                                      \n",
       "Dr        NaN            1.0  NaN   NaN   NaN\n",
       "Master    NaN            8.0  NaN   NaN   NaN\n",
       "Miss      NaN           50.0  NaN   NaN   NaN\n",
       "Mr        NaN          176.0  NaN   NaN   NaN\n",
       "Mrs       NaN           27.0  NaN   NaN   NaN\n",
       "Ms        NaN            1.0  NaN   NaN   NaN\n",
       "All       NaN            0.0  NaN   NaN   NaN"
      ]
     },
     "execution_count": 21,
     "metadata": {},
     "output_type": "execute_result"
    }
   ],
   "source": [
    "t_null_ages.pivot_table('t_age',index = 't_title', aggfunc = [np.mean, np.count_nonzero, np.std, np.max, np.min], \n",
    "                      margins = True)"
   ]
  },
  {
   "cell_type": "code",
   "execution_count": 22,
   "metadata": {
    "collapsed": false
   },
   "outputs": [
    {
     "data": {
      "text/html": [
       "<div>\n",
       "<table border=\"1\" class=\"dataframe\">\n",
       "  <thead>\n",
       "    <tr style=\"text-align: right;\">\n",
       "      <th></th>\n",
       "      <th>mean</th>\n",
       "      <th>count_nonzero</th>\n",
       "      <th>std</th>\n",
       "      <th>amax</th>\n",
       "      <th>amin</th>\n",
       "    </tr>\n",
       "    <tr>\n",
       "      <th>t_title</th>\n",
       "      <th></th>\n",
       "      <th></th>\n",
       "      <th></th>\n",
       "      <th></th>\n",
       "      <th></th>\n",
       "    </tr>\n",
       "  </thead>\n",
       "  <tbody>\n",
       "    <tr>\n",
       "      <th>Capt</th>\n",
       "      <td>70.000000</td>\n",
       "      <td>1.0</td>\n",
       "      <td>NaN</td>\n",
       "      <td>70.0</td>\n",
       "      <td>70.00</td>\n",
       "    </tr>\n",
       "    <tr>\n",
       "      <th>Col</th>\n",
       "      <td>54.000000</td>\n",
       "      <td>4.0</td>\n",
       "      <td>5.477226</td>\n",
       "      <td>60.0</td>\n",
       "      <td>47.00</td>\n",
       "    </tr>\n",
       "    <tr>\n",
       "      <th>Don</th>\n",
       "      <td>40.000000</td>\n",
       "      <td>1.0</td>\n",
       "      <td>NaN</td>\n",
       "      <td>40.0</td>\n",
       "      <td>40.00</td>\n",
       "    </tr>\n",
       "    <tr>\n",
       "      <th>Dona</th>\n",
       "      <td>39.000000</td>\n",
       "      <td>1.0</td>\n",
       "      <td>NaN</td>\n",
       "      <td>39.0</td>\n",
       "      <td>39.00</td>\n",
       "    </tr>\n",
       "    <tr>\n",
       "      <th>Dr</th>\n",
       "      <td>43.571429</td>\n",
       "      <td>8.0</td>\n",
       "      <td>11.731115</td>\n",
       "      <td>54.0</td>\n",
       "      <td>23.00</td>\n",
       "    </tr>\n",
       "    <tr>\n",
       "      <th>Jonkheer</th>\n",
       "      <td>38.000000</td>\n",
       "      <td>1.0</td>\n",
       "      <td>NaN</td>\n",
       "      <td>38.0</td>\n",
       "      <td>38.00</td>\n",
       "    </tr>\n",
       "    <tr>\n",
       "      <th>Lady</th>\n",
       "      <td>48.000000</td>\n",
       "      <td>1.0</td>\n",
       "      <td>NaN</td>\n",
       "      <td>48.0</td>\n",
       "      <td>48.00</td>\n",
       "    </tr>\n",
       "    <tr>\n",
       "      <th>Major</th>\n",
       "      <td>48.500000</td>\n",
       "      <td>2.0</td>\n",
       "      <td>4.949747</td>\n",
       "      <td>52.0</td>\n",
       "      <td>45.00</td>\n",
       "    </tr>\n",
       "    <tr>\n",
       "      <th>Master</th>\n",
       "      <td>5.482642</td>\n",
       "      <td>61.0</td>\n",
       "      <td>4.161554</td>\n",
       "      <td>14.5</td>\n",
       "      <td>0.33</td>\n",
       "    </tr>\n",
       "    <tr>\n",
       "      <th>Miss</th>\n",
       "      <td>21.774238</td>\n",
       "      <td>260.0</td>\n",
       "      <td>12.249077</td>\n",
       "      <td>63.0</td>\n",
       "      <td>0.17</td>\n",
       "    </tr>\n",
       "    <tr>\n",
       "      <th>Mlle</th>\n",
       "      <td>24.000000</td>\n",
       "      <td>2.0</td>\n",
       "      <td>0.000000</td>\n",
       "      <td>24.0</td>\n",
       "      <td>24.00</td>\n",
       "    </tr>\n",
       "    <tr>\n",
       "      <th>Mme</th>\n",
       "      <td>24.000000</td>\n",
       "      <td>1.0</td>\n",
       "      <td>NaN</td>\n",
       "      <td>24.0</td>\n",
       "      <td>24.00</td>\n",
       "    </tr>\n",
       "    <tr>\n",
       "      <th>Mr</th>\n",
       "      <td>32.252151</td>\n",
       "      <td>757.0</td>\n",
       "      <td>12.422089</td>\n",
       "      <td>80.0</td>\n",
       "      <td>11.00</td>\n",
       "    </tr>\n",
       "    <tr>\n",
       "      <th>Mrs</th>\n",
       "      <td>36.994118</td>\n",
       "      <td>197.0</td>\n",
       "      <td>12.901767</td>\n",
       "      <td>76.0</td>\n",
       "      <td>14.00</td>\n",
       "    </tr>\n",
       "    <tr>\n",
       "      <th>Ms</th>\n",
       "      <td>28.000000</td>\n",
       "      <td>2.0</td>\n",
       "      <td>NaN</td>\n",
       "      <td>28.0</td>\n",
       "      <td>28.00</td>\n",
       "    </tr>\n",
       "    <tr>\n",
       "      <th>Rev</th>\n",
       "      <td>41.250000</td>\n",
       "      <td>8.0</td>\n",
       "      <td>12.020815</td>\n",
       "      <td>57.0</td>\n",
       "      <td>27.00</td>\n",
       "    </tr>\n",
       "    <tr>\n",
       "      <th>Sir</th>\n",
       "      <td>49.000000</td>\n",
       "      <td>1.0</td>\n",
       "      <td>NaN</td>\n",
       "      <td>49.0</td>\n",
       "      <td>49.00</td>\n",
       "    </tr>\n",
       "    <tr>\n",
       "      <th>the Countess</th>\n",
       "      <td>33.000000</td>\n",
       "      <td>1.0</td>\n",
       "      <td>NaN</td>\n",
       "      <td>33.0</td>\n",
       "      <td>33.00</td>\n",
       "    </tr>\n",
       "    <tr>\n",
       "      <th>All</th>\n",
       "      <td>29.881138</td>\n",
       "      <td>1046.0</td>\n",
       "      <td>14.406602</td>\n",
       "      <td>80.0</td>\n",
       "      <td>0.17</td>\n",
       "    </tr>\n",
       "  </tbody>\n",
       "</table>\n",
       "</div>"
      ],
      "text/plain": [
       "                   mean  count_nonzero        std  amax   amin\n",
       "t_title                                                       \n",
       "Capt          70.000000            1.0        NaN  70.0  70.00\n",
       "Col           54.000000            4.0   5.477226  60.0  47.00\n",
       "Don           40.000000            1.0        NaN  40.0  40.00\n",
       "Dona          39.000000            1.0        NaN  39.0  39.00\n",
       "Dr            43.571429            8.0  11.731115  54.0  23.00\n",
       "Jonkheer      38.000000            1.0        NaN  38.0  38.00\n",
       "Lady          48.000000            1.0        NaN  48.0  48.00\n",
       "Major         48.500000            2.0   4.949747  52.0  45.00\n",
       "Master         5.482642           61.0   4.161554  14.5   0.33\n",
       "Miss          21.774238          260.0  12.249077  63.0   0.17\n",
       "Mlle          24.000000            2.0   0.000000  24.0  24.00\n",
       "Mme           24.000000            1.0        NaN  24.0  24.00\n",
       "Mr            32.252151          757.0  12.422089  80.0  11.00\n",
       "Mrs           36.994118          197.0  12.901767  76.0  14.00\n",
       "Ms            28.000000            2.0        NaN  28.0  28.00\n",
       "Rev           41.250000            8.0  12.020815  57.0  27.00\n",
       "Sir           49.000000            1.0        NaN  49.0  49.00\n",
       "the Countess  33.000000            1.0        NaN  33.0  33.00\n",
       "All           29.881138         1046.0  14.406602  80.0   0.17"
      ]
     },
     "execution_count": 22,
     "metadata": {},
     "output_type": "execute_result"
    }
   ],
   "source": [
    "tdf_clean.pivot_table('t_age',index = 't_title', aggfunc = [np.mean, np.count_nonzero, np.std, np.max, np.min], \n",
    "                      margins = True)"
   ]
  },
  {
   "cell_type": "code",
   "execution_count": 23,
   "metadata": {
    "collapsed": false
   },
   "outputs": [],
   "source": [
    "tdf_clean['t_age'] = tdf_clean['t_age'].fillna(np.mean(tdf_clean['t_age']))"
   ]
  },
  {
   "cell_type": "markdown",
   "metadata": {},
   "source": [
    "#### <font color='blue'>Lusitania Age Estimations</font>"
   ]
  },
  {
   "cell_type": "code",
   "execution_count": 24,
   "metadata": {
    "collapsed": false
   },
   "outputs": [
    {
     "data": {
      "text/plain": [
       "161"
      ]
     },
     "execution_count": 24,
     "metadata": {},
     "output_type": "execute_result"
    }
   ],
   "source": [
    "l_null_ages = ldf_clean[(ldf_clean['l_age'] >= 0) == False]\n",
    "len(l_null_ages)"
   ]
  },
  {
   "cell_type": "code",
   "execution_count": 25,
   "metadata": {
    "collapsed": true
   },
   "outputs": [],
   "source": [
    "ldf_clean['l_age'] = ldf_clean['l_age'].fillna(np.mean(ldf_clean['l_age']))"
   ]
  },
  {
   "cell_type": "markdown",
   "metadata": {},
   "source": [
    "## Part 4: Group Statistics"
   ]
  },
  {
   "cell_type": "markdown",
   "metadata": {
    "collapsed": true
   },
   "source": [
    "#### Are there any groups that were especially adversely affected in the Titanic wreck? (justify your response numerically)"
   ]
  },
  {
   "cell_type": "code",
   "execution_count": 26,
   "metadata": {
    "collapsed": true
   },
   "outputs": [],
   "source": [
    "from scipy.stats import chi2_contingency"
   ]
  },
  {
   "cell_type": "code",
   "execution_count": 27,
   "metadata": {
    "collapsed": false,
    "scrolled": true
   },
   "outputs": [
    {
     "data": {
      "text/html": [
       "<div>\n",
       "<table border=\"1\" class=\"dataframe\">\n",
       "  <thead>\n",
       "    <tr style=\"text-align: right;\">\n",
       "      <th></th>\n",
       "      <th>t_class_1</th>\n",
       "      <th>t_class_2</th>\n",
       "      <th>t_class_3</th>\n",
       "    </tr>\n",
       "    <tr>\n",
       "      <th>t_fate</th>\n",
       "      <th></th>\n",
       "      <th></th>\n",
       "      <th></th>\n",
       "    </tr>\n",
       "  </thead>\n",
       "  <tbody>\n",
       "    <tr>\n",
       "      <th>0</th>\n",
       "      <td>123</td>\n",
       "      <td>158</td>\n",
       "      <td>528</td>\n",
       "    </tr>\n",
       "    <tr>\n",
       "      <th>1</th>\n",
       "      <td>200</td>\n",
       "      <td>119</td>\n",
       "      <td>181</td>\n",
       "    </tr>\n",
       "  </tbody>\n",
       "</table>\n",
       "</div>"
      ],
      "text/plain": [
       "        t_class_1  t_class_2  t_class_3\n",
       "t_fate                                 \n",
       "0             123        158        528\n",
       "1             200        119        181"
      ]
     },
     "execution_count": 27,
     "metadata": {},
     "output_type": "execute_result"
    }
   ],
   "source": [
    "t_class_survive_pivot = tdf_clean.pivot_table(['t_class_1','t_class_2','t_class_3'],index = 't_fate', aggfunc = 'sum')\n",
    "t_class_survive_pivot"
   ]
  },
  {
   "cell_type": "code",
   "execution_count": 28,
   "metadata": {
    "collapsed": false,
    "scrolled": true
   },
   "outputs": [
    {
     "data": {
      "text/plain": [
       "(127.85915643930328,\n",
       " 1.7208259588256052e-28,\n",
       " 2,\n",
       " array([[ 199.62337662,  171.19404125,  438.18258212],\n",
       "        [ 123.37662338,  105.80595875,  270.81741788]]))"
      ]
     },
     "execution_count": 28,
     "metadata": {},
     "output_type": "execute_result"
    }
   ],
   "source": [
    "chi2_contingency(t_class_survive_pivot)"
   ]
  },
  {
   "cell_type": "code",
   "execution_count": 29,
   "metadata": {
    "collapsed": false
   },
   "outputs": [
    {
     "data": {
      "text/html": [
       "<div>\n",
       "<table border=\"1\" class=\"dataframe\">\n",
       "  <thead>\n",
       "    <tr style=\"text-align: right;\">\n",
       "      <th></th>\n",
       "      <th>t_class_1</th>\n",
       "      <th>t_class_2</th>\n",
       "      <th>t_class_3</th>\n",
       "    </tr>\n",
       "    <tr>\n",
       "      <th>t_fate</th>\n",
       "      <th></th>\n",
       "      <th></th>\n",
       "      <th></th>\n",
       "    </tr>\n",
       "  </thead>\n",
       "  <tbody>\n",
       "    <tr>\n",
       "      <th>0</th>\n",
       "      <td>123.0</td>\n",
       "      <td>158.0</td>\n",
       "      <td>528.0</td>\n",
       "    </tr>\n",
       "    <tr>\n",
       "      <th>1</th>\n",
       "      <td>200.0</td>\n",
       "      <td>119.0</td>\n",
       "      <td>181.0</td>\n",
       "    </tr>\n",
       "    <tr>\n",
       "      <th>All</th>\n",
       "      <td>323.0</td>\n",
       "      <td>277.0</td>\n",
       "      <td>709.0</td>\n",
       "    </tr>\n",
       "  </tbody>\n",
       "</table>\n",
       "</div>"
      ],
      "text/plain": [
       "        t_class_1  t_class_2  t_class_3\n",
       "t_fate                                 \n",
       "0           123.0      158.0      528.0\n",
       "1           200.0      119.0      181.0\n",
       "All         323.0      277.0      709.0"
      ]
     },
     "execution_count": 29,
     "metadata": {},
     "output_type": "execute_result"
    }
   ],
   "source": [
    "tdf_clean.pivot_table(['t_class_1','t_class_2','t_class_3'],index = 't_fate', aggfunc = 'sum', margins = True)"
   ]
  },
  {
   "cell_type": "markdown",
   "metadata": {},
   "source": [
    "Yes, the third class was adversely affected. There is a clear relationship between class and survival rate. The survival rate for the titanic was approximately 38%, where 26% of the third class survived, 43% of second class survived, and 62% of first survived. Looking at the expected survival values, first and second class actual values surpass the expectation."
   ]
  },
  {
   "cell_type": "markdown",
   "metadata": {},
   "source": [
    "#### Are there any groups that outperformed the survival of the latter group? (justify your response numerically)\n"
   ]
  },
  {
   "cell_type": "code",
   "execution_count": 30,
   "metadata": {
    "collapsed": false,
    "scrolled": true
   },
   "outputs": [
    {
     "data": {
      "text/plain": [
       "(124.62521354251798,\n",
       " 6.147496811642943e-29,\n",
       " 1,\n",
       " array([[ 203.75290698,  447.24709302],\n",
       "        [ 119.24709302,  261.75290698]]))"
      ]
     },
     "execution_count": 30,
     "metadata": {},
     "output_type": "execute_result"
    }
   ],
   "source": [
    "t_class_survive_pivot_1_3 = tdf_clean.pivot_table(['t_class_1','t_class_3'],index = 't_fate', aggfunc = 'sum')\n",
    "chi2_contingency(t_class_survive_pivot_1_3)"
   ]
  },
  {
   "cell_type": "code",
   "execution_count": 31,
   "metadata": {
    "collapsed": false
   },
   "outputs": [
    {
     "data": {
      "text/plain": [
       "(27.772913401505178,\n",
       " 1.3642281379956039e-07,\n",
       " 1,\n",
       " array([[ 192.72008114,  493.27991886],\n",
       "        [  84.27991886,  215.72008114]]))"
      ]
     },
     "execution_count": 31,
     "metadata": {},
     "output_type": "execute_result"
    }
   ],
   "source": [
    "t_class_survive_pivot_2_3 = tdf_clean.pivot_table(['t_class_2','t_class_3'],index = 't_fate', aggfunc = 'sum')\n",
    "chi2_contingency(t_class_survive_pivot_2_3)"
   ]
  },
  {
   "cell_type": "code",
   "execution_count": 32,
   "metadata": {
    "collapsed": false,
    "scrolled": true
   },
   "outputs": [
    {
     "data": {
      "text/plain": [
       "(20.772001470299045,\n",
       " 5.1733792710189712e-06,\n",
       " 1,\n",
       " array([[ 151.27166667,  129.72833333],\n",
       "        [ 171.72833333,  147.27166667]]))"
      ]
     },
     "execution_count": 32,
     "metadata": {},
     "output_type": "execute_result"
    }
   ],
   "source": [
    "t_class_survive_pivot_1_2 = tdf_clean.pivot_table(['t_class_1','t_class_2'],index = 't_fate', aggfunc = 'sum')\n",
    "chi2_contingency(t_class_survive_pivot_1_2)"
   ]
  },
  {
   "cell_type": "markdown",
   "metadata": {},
   "source": [
    "Yes, as shown above, first class outperformed both groups, whereas second class only outperformed third class."
   ]
  },
  {
   "cell_type": "markdown",
   "metadata": {
    "collapsed": true
   },
   "source": [
    "## Part 5:  Comparative Statistics:  Lusitania"
   ]
  },
  {
   "cell_type": "markdown",
   "metadata": {
    "collapsed": true
   },
   "source": [
    "#### Are there any groups that were especially adversely affected in the Lusitania wreck? (justify your response numerically)"
   ]
  },
  {
   "cell_type": "code",
   "execution_count": 33,
   "metadata": {
    "collapsed": false
   },
   "outputs": [
    {
     "data": {
      "text/html": [
       "<div>\n",
       "<table border=\"1\" class=\"dataframe\">\n",
       "  <thead>\n",
       "    <tr style=\"text-align: right;\">\n",
       "      <th></th>\n",
       "      <th>l_class_1</th>\n",
       "      <th>l_class_2</th>\n",
       "      <th>l_class_3</th>\n",
       "    </tr>\n",
       "    <tr>\n",
       "      <th>l_fate</th>\n",
       "      <th></th>\n",
       "      <th></th>\n",
       "      <th></th>\n",
       "    </tr>\n",
       "  </thead>\n",
       "  <tbody>\n",
       "    <tr>\n",
       "      <th>0</th>\n",
       "      <td>177</td>\n",
       "      <td>372</td>\n",
       "      <td>239</td>\n",
       "    </tr>\n",
       "    <tr>\n",
       "      <th>1</th>\n",
       "      <td>113</td>\n",
       "      <td>229</td>\n",
       "      <td>134</td>\n",
       "    </tr>\n",
       "  </tbody>\n",
       "</table>\n",
       "</div>"
      ],
      "text/plain": [
       "        l_class_1  l_class_2  l_class_3\n",
       "l_fate                                 \n",
       "0             177        372        239\n",
       "1             113        229        134"
      ]
     },
     "execution_count": 33,
     "metadata": {},
     "output_type": "execute_result"
    }
   ],
   "source": [
    "l_class_survive_pivot = ldf_clean.pivot_table(['l_class_1','l_class_2','l_class_3'],index = 'l_fate', aggfunc = 'sum')\n",
    "l_class_survive_pivot"
   ]
  },
  {
   "cell_type": "code",
   "execution_count": 34,
   "metadata": {
    "collapsed": false,
    "scrolled": true
   },
   "outputs": [
    {
     "data": {
      "text/plain": [
       "(0.73911123039443172,\n",
       " 0.69104135068912131,\n",
       " 2,\n",
       " array([[ 180.79113924,  374.67405063,  232.53481013],\n",
       "        [ 109.20886076,  226.32594937,  140.46518987]]))"
      ]
     },
     "execution_count": 34,
     "metadata": {},
     "output_type": "execute_result"
    }
   ],
   "source": [
    "chi2_contingency(l_class_survive_pivot)\n",
    "# doesn't look like a relationship with class"
   ]
  },
  {
   "cell_type": "code",
   "execution_count": 35,
   "metadata": {
    "collapsed": false,
    "scrolled": true
   },
   "outputs": [
    {
     "data": {
      "text/html": [
       "<div>\n",
       "<table border=\"1\" class=\"dataframe\">\n",
       "  <thead>\n",
       "    <tr>\n",
       "      <th></th>\n",
       "      <th colspan=\"2\" halign=\"left\">l_age</th>\n",
       "    </tr>\n",
       "    <tr>\n",
       "      <th>l_sex</th>\n",
       "      <th>0</th>\n",
       "      <th>1</th>\n",
       "    </tr>\n",
       "    <tr>\n",
       "      <th>l_fate</th>\n",
       "      <th></th>\n",
       "      <th></th>\n",
       "    </tr>\n",
       "  </thead>\n",
       "  <tbody>\n",
       "    <tr>\n",
       "      <th>0</th>\n",
       "      <td>309</td>\n",
       "      <td>479</td>\n",
       "    </tr>\n",
       "    <tr>\n",
       "      <th>1</th>\n",
       "      <td>183</td>\n",
       "      <td>293</td>\n",
       "    </tr>\n",
       "  </tbody>\n",
       "</table>\n",
       "</div>"
      ],
      "text/plain": [
       "       l_age     \n",
       "l_sex      0    1\n",
       "l_fate           \n",
       "0        309  479\n",
       "1        183  293"
      ]
     },
     "execution_count": 35,
     "metadata": {},
     "output_type": "execute_result"
    }
   ],
   "source": [
    "l_sex_survive_pivot = ldf_clean.pivot_table(['l_age'],index = 'l_fate', columns = 'l_sex',aggfunc = 'count')\n",
    "l_sex_survive_pivot"
   ]
  },
  {
   "cell_type": "code",
   "execution_count": 36,
   "metadata": {
    "collapsed": false,
    "scrolled": true
   },
   "outputs": [
    {
     "data": {
      "text/plain": [
       "(0.044835716500665791,\n",
       " 0.83230640009660906,\n",
       " 1,\n",
       " array([[ 306.72151899,  481.27848101],\n",
       "        [ 185.27848101,  290.72151899]]))"
      ]
     },
     "execution_count": 36,
     "metadata": {},
     "output_type": "execute_result"
    }
   ],
   "source": [
    "chi2_contingency(l_sex_survive_pivot)\n",
    "# doesn't look like a relationship with sex"
   ]
  },
  {
   "cell_type": "code",
   "execution_count": 37,
   "metadata": {
    "collapsed": false,
    "scrolled": true
   },
   "outputs": [
    {
     "data": {
      "text/html": [
       "<div>\n",
       "<table border=\"1\" class=\"dataframe\">\n",
       "  <thead>\n",
       "    <tr style=\"text-align: right;\">\n",
       "      <th></th>\n",
       "      <th>adult</th>\n",
       "      <th>infant</th>\n",
       "      <th>minor</th>\n",
       "    </tr>\n",
       "    <tr>\n",
       "      <th>l_fate</th>\n",
       "      <th></th>\n",
       "      <th></th>\n",
       "      <th></th>\n",
       "    </tr>\n",
       "  </thead>\n",
       "  <tbody>\n",
       "    <tr>\n",
       "      <th>0</th>\n",
       "      <td>686</td>\n",
       "      <td>37</td>\n",
       "      <td>65</td>\n",
       "    </tr>\n",
       "    <tr>\n",
       "      <th>1</th>\n",
       "      <td>423</td>\n",
       "      <td>10</td>\n",
       "      <td>43</td>\n",
       "    </tr>\n",
       "  </tbody>\n",
       "</table>\n",
       "</div>"
      ],
      "text/plain": [
       "        adult  infant  minor\n",
       "l_fate                      \n",
       "0         686      37     65\n",
       "1         423      10     43"
      ]
     },
     "execution_count": 37,
     "metadata": {},
     "output_type": "execute_result"
    }
   ],
   "source": [
    "l_age_survive_pivot = ldf_clean.pivot_table(['adult','minor','infant'],index = 'l_fate', aggfunc = 'sum')\n",
    "l_age_survive_pivot"
   ]
  },
  {
   "cell_type": "code",
   "execution_count": 38,
   "metadata": {
    "collapsed": false
   },
   "outputs": [
    {
     "data": {
      "text/plain": [
       "(5.6971821063639227,\n",
       " 0.057925877887931951,\n",
       " 2,\n",
       " array([[ 691.37025316,   29.30063291,   67.32911392],\n",
       "        [ 417.62974684,   17.69936709,   40.67088608]]))"
      ]
     },
     "execution_count": 38,
     "metadata": {},
     "output_type": "execute_result"
    }
   ],
   "source": [
    "chi2_contingency(l_age_survive_pivot)\n",
    "# better relationship with age, but doesnt quite have a small enough p-value."
   ]
  },
  {
   "cell_type": "markdown",
   "metadata": {
    "collapsed": true
   },
   "source": [
    "#### Are there any groups that outperformed the survival of the latter group? (justify your response numerically)\n",
    "\n"
   ]
  },
  {
   "cell_type": "code",
   "execution_count": 39,
   "metadata": {
    "collapsed": false,
    "scrolled": true
   },
   "outputs": [
    {
     "data": {
      "text/html": [
       "<div>\n",
       "<table border=\"1\" class=\"dataframe\">\n",
       "  <thead>\n",
       "    <tr style=\"text-align: right;\">\n",
       "      <th></th>\n",
       "      <th>adult</th>\n",
       "      <th>minor</th>\n",
       "    </tr>\n",
       "    <tr>\n",
       "      <th>l_fate</th>\n",
       "      <th></th>\n",
       "      <th></th>\n",
       "    </tr>\n",
       "  </thead>\n",
       "  <tbody>\n",
       "    <tr>\n",
       "      <th>0</th>\n",
       "      <td>686</td>\n",
       "      <td>65</td>\n",
       "    </tr>\n",
       "    <tr>\n",
       "      <th>1</th>\n",
       "      <td>423</td>\n",
       "      <td>43</td>\n",
       "    </tr>\n",
       "  </tbody>\n",
       "</table>\n",
       "</div>"
      ],
      "text/plain": [
       "        adult  minor\n",
       "l_fate              \n",
       "0         686     65\n",
       "1         423     43"
      ]
     },
     "execution_count": 39,
     "metadata": {},
     "output_type": "execute_result"
    }
   ],
   "source": [
    "l_age_survive_pivot_a_m = ldf_clean.pivot_table(['adult','minor'],index = 'l_fate', aggfunc = 'sum')\n",
    "l_age_survive_pivot_a_m"
   ]
  },
  {
   "cell_type": "code",
   "execution_count": 40,
   "metadata": {
    "collapsed": false,
    "scrolled": false
   },
   "outputs": [
    {
     "data": {
      "text/plain": [
       "(0.056460726244854098,\n",
       " 0.81217997975577561,\n",
       " 1,\n",
       " array([[ 684.35414955,   66.64585045],\n",
       "        [ 424.64585045,   41.35414955]]))"
      ]
     },
     "execution_count": 40,
     "metadata": {},
     "output_type": "execute_result"
    }
   ],
   "source": [
    "chi2_contingency(l_age_survive_pivot_a_m)"
   ]
  },
  {
   "cell_type": "code",
   "execution_count": 41,
   "metadata": {
    "collapsed": false,
    "scrolled": true
   },
   "outputs": [
    {
     "data": {
      "text/html": [
       "<div>\n",
       "<table border=\"1\" class=\"dataframe\">\n",
       "  <thead>\n",
       "    <tr style=\"text-align: right;\">\n",
       "      <th></th>\n",
       "      <th>adult</th>\n",
       "      <th>infant</th>\n",
       "    </tr>\n",
       "    <tr>\n",
       "      <th>l_fate</th>\n",
       "      <th></th>\n",
       "      <th></th>\n",
       "    </tr>\n",
       "  </thead>\n",
       "  <tbody>\n",
       "    <tr>\n",
       "      <th>0</th>\n",
       "      <td>686</td>\n",
       "      <td>37</td>\n",
       "    </tr>\n",
       "    <tr>\n",
       "      <th>1</th>\n",
       "      <td>423</td>\n",
       "      <td>10</td>\n",
       "    </tr>\n",
       "  </tbody>\n",
       "</table>\n",
       "</div>"
      ],
      "text/plain": [
       "        adult  infant\n",
       "l_fate               \n",
       "0         686      37\n",
       "1         423      10"
      ]
     },
     "execution_count": 41,
     "metadata": {},
     "output_type": "execute_result"
    }
   ],
   "source": [
    "l_age_survive_pivot_a_i = ldf_clean.pivot_table(['adult','infant'],index = 'l_fate', aggfunc = 'sum')\n",
    "l_age_survive_pivot_a_i"
   ]
  },
  {
   "cell_type": "code",
   "execution_count": 42,
   "metadata": {
    "collapsed": false,
    "scrolled": true
   },
   "outputs": [
    {
     "data": {
      "text/plain": [
       "(4.7786572523516728,\n",
       " 0.028814580347396229,\n",
       " 1,\n",
       " array([[ 693.60467128,   29.39532872],\n",
       "        [ 415.39532872,   17.60467128]]))"
      ]
     },
     "execution_count": 42,
     "metadata": {},
     "output_type": "execute_result"
    }
   ],
   "source": [
    "chi2_contingency(l_age_survive_pivot_a_i)"
   ]
  },
  {
   "cell_type": "code",
   "execution_count": 43,
   "metadata": {
    "collapsed": false,
    "scrolled": true
   },
   "outputs": [
    {
     "data": {
      "text/html": [
       "<div>\n",
       "<table border=\"1\" class=\"dataframe\">\n",
       "  <thead>\n",
       "    <tr style=\"text-align: right;\">\n",
       "      <th></th>\n",
       "      <th>infant</th>\n",
       "      <th>minor</th>\n",
       "    </tr>\n",
       "    <tr>\n",
       "      <th>l_fate</th>\n",
       "      <th></th>\n",
       "      <th></th>\n",
       "    </tr>\n",
       "  </thead>\n",
       "  <tbody>\n",
       "    <tr>\n",
       "      <th>0</th>\n",
       "      <td>37</td>\n",
       "      <td>65</td>\n",
       "    </tr>\n",
       "    <tr>\n",
       "      <th>1</th>\n",
       "      <td>10</td>\n",
       "      <td>43</td>\n",
       "    </tr>\n",
       "  </tbody>\n",
       "</table>\n",
       "</div>"
      ],
      "text/plain": [
       "        infant  minor\n",
       "l_fate               \n",
       "0           37     65\n",
       "1           10     43"
      ]
     },
     "execution_count": 43,
     "metadata": {},
     "output_type": "execute_result"
    }
   ],
   "source": [
    "l_age_survive_pivot_m_i = ldf_clean.pivot_table(['minor','infant'],index = 'l_fate', aggfunc = 'sum')\n",
    "l_age_survive_pivot_m_i"
   ]
  },
  {
   "cell_type": "code",
   "execution_count": 44,
   "metadata": {
    "collapsed": false
   },
   "outputs": [
    {
     "data": {
      "text/plain": [
       "(4.2117125919832823,\n",
       " 0.040145785953812727,\n",
       " 1,\n",
       " array([[ 30.92903226,  71.07096774],\n",
       "        [ 16.07096774,  36.92903226]]))"
      ]
     },
     "execution_count": 44,
     "metadata": {},
     "output_type": "execute_result"
    }
   ],
   "source": [
    "chi2_contingency(l_age_survive_pivot_m_i)"
   ]
  },
  {
   "cell_type": "markdown",
   "metadata": {},
   "source": [
    "Infants fared the worst out of the three groups, with survival rate of 21%."
   ]
  },
  {
   "cell_type": "markdown",
   "metadata": {},
   "source": [
    "#### What does the group-wise survival rate imply about circumstances during these two accidents?"
   ]
  },
  {
   "cell_type": "markdown",
   "metadata": {
    "collapsed": true
   },
   "source": [
    "For the Titanic, the highest chance of survival depended on your purchased ticket, whereas Lusitania did not have a clear relationship, besides the fact that individuals with the ability to survive had a chance at survival."
   ]
  }
 ],
 "metadata": {
  "anaconda-cloud": {},
  "kernelspec": {
   "display_name": "Python [conda root]",
   "language": "python",
   "name": "conda-root-py"
  },
  "language_info": {
   "codemirror_mode": {
    "name": "ipython",
    "version": 2
   },
   "file_extension": ".py",
   "mimetype": "text/x-python",
   "name": "python",
   "nbconvert_exporter": "python",
   "pygments_lexer": "ipython2",
   "version": "2.7.12"
  }
 },
 "nbformat": 4,
 "nbformat_minor": 0
}
